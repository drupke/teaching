{
 "cells": [
  {
   "cell_type": "markdown",
   "id": "transsexual-board",
   "metadata": {},
   "source": [
    "Use this notebook to complete PS#5. Complete __the emphasized questions__ and submit the results on paper. Feel free change the code as you want -- if you mess something up, you can always reload it from scratch.\n",
    "\n",
    "To run each step, put your cursor in the box and click the \"Run\" button."
   ]
  },
  {
   "cell_type": "markdown",
   "id": "increasing-missouri",
   "metadata": {},
   "source": [
    "Start by loading some Python libraries."
   ]
  },
  {
   "cell_type": "code",
   "execution_count": null,
   "id": "heated-dietary",
   "metadata": {},
   "outputs": [],
   "source": [
    "%matplotlib inline"
   ]
  },
  {
   "cell_type": "code",
   "execution_count": null,
   "id": "northern-reynolds",
   "metadata": {},
   "outputs": [],
   "source": [
    "import numpy as np\n",
    "import pandas as pd\n",
    "import matplotlib\n",
    "import matplotlib.pyplot as plt"
   ]
  },
  {
   "cell_type": "markdown",
   "id": "suspected-inventory",
   "metadata": {},
   "source": [
    "## C&O 10.25"
   ]
  },
  {
   "cell_type": "markdown",
   "id": "wound-postage",
   "metadata": {},
   "source": [
    "Verify that the basic equations of stellar structure [Eqs. (10.6), (10.7), (10.36), (10.68)] are satisfied by the 1 M$_\\odot$ StatStar model."
   ]
  },
  {
   "cell_type": "markdown",
   "id": "figured-ethics",
   "metadata": {},
   "source": [
    "1. First, run the 1 M$_\\odot$ model. Use L = 0.86071 L$_\\odot$, T = 5500.2 K, X = 0.7, and Z = 0.008."
   ]
  },
  {
   "cell_type": "code",
   "execution_count": null,
   "id": "attached-designer",
   "metadata": {},
   "outputs": [],
   "source": [
    "from statstar import StatStar"
   ]
  },
  {
   "cell_type": "markdown",
   "id": "concrete-quebec",
   "metadata": {},
   "source": [
    "In case you messed up the first run, you can run StatStar again, specifying the correct parameters from the command line:"
   ]
  },
  {
   "cell_type": "code",
   "execution_count": null,
   "id": "inner-center",
   "metadata": {},
   "outputs": [],
   "source": [
    "StatStar(1.,0.86071,5500.2,0.7,0.008)"
   ]
  },
  {
   "cell_type": "markdown",
   "id": "raising-enterprise",
   "metadata": {},
   "source": [
    "2. Copy the results to a new file, and then peruse the results. The output table lists the following quantities:\n",
    "- r, stellar radius in meters\n",
    "- Qm, a dimensionless measure of mass, where Qm $\\equiv$ 1.0 - M$_r$/M$_\\mathrm{tot}$ (see Notes)\n",
    "- L$_r$, interior luminosity in Watts\n",
    "- T, temperature in K\n",
    "- P, pressure in Pascals\n",
    "- rho, mass density in kg/m$^3$\n",
    "- kap(pa), opacity\n",
    "- eps(ilon), energy generation rate W/kg\n",
    "- whether the energy transport is dominated by radiation (r) or convection (c)\n",
    "- dlnP/dlnT, the gradient of ln(P) -- natural log of P -- with ln(T)"
   ]
  },
  {
   "cell_type": "code",
   "execution_count": null,
   "id": "verified-legislature",
   "metadata": {},
   "outputs": [],
   "source": [
    "mv starmodl_py.dat starmodl_1p0.dat"
   ]
  },
  {
   "cell_type": "code",
   "execution_count": null,
   "id": "bacterial-agenda",
   "metadata": {},
   "outputs": [],
   "source": [
    "model1p0 = pd.read_csv('starmodl_1p0.dat', comment='#', sep='\\s+')\n",
    "header1p0 = pd.read_csv('starmodl_1p0.dat', nrows=15, header=None, names=['Header'])\n",
    "for i in range(15):\n",
    "    print(header1p0['Header'][i])\n",
    "model1p0"
   ]
  },
  {
   "cell_type": "markdown",
   "id": "eligible-series",
   "metadata": {},
   "source": [
    "3. Find two adjacent shells at temperatures near $5\\times10^6$ K."
   ]
  },
  {
   "cell_type": "code",
   "execution_count": null,
   "id": "boolean-greek",
   "metadata": {
    "scrolled": true
   },
   "outputs": [],
   "source": [
    "model1p0[30:40]"
   ]
  },
  {
   "cell_type": "markdown",
   "id": "concerned-immunology",
   "metadata": {},
   "source": [
    "__4. Using these two shells, numerically compute the derivatives on the left-hand sides of the stellar structure equations. For example:__\n",
    "\n",
    "$\\frac{dP}{dr} \\approx \\frac{P_{i+1} - P_i}{r_{i+1} - r_i}$\n",
    "\n",
    "\n",
    "__5. Compare the results with the values on the right-hand sides of the equations using average values of quantities for the two zones (e.g., $M_r = (M_i+M_{i+1})/2$) by computing percent differences between the two sides of each equation. Assume complete ionization, X = 0.7, Y = 0.292, and Z = 0.008.__"
   ]
  },
  {
   "cell_type": "markdown",
   "id": "joint-boston",
   "metadata": {},
   "source": [
    "## C&O 10.26"
   ]
  },
  {
   "cell_type": "markdown",
   "id": "respiratory-ivory",
   "metadata": {},
   "source": [
    "Now, build a second main-sequence star with a mass of 0.75 M$_\\odot$ that has a homogeneous composition of X = 0.7, Y = 0.292, and Z = 0.008. For these values, the model's luminosity and effective temperature are 0.189 L$_\\odot$ and 3851.55 K, respectively."
   ]
  },
  {
   "cell_type": "code",
   "execution_count": null,
   "id": "corporate-thesis",
   "metadata": {},
   "outputs": [],
   "source": [
    "StatStar(0.75,0.189,3851.55,0.7,0.008)"
   ]
  },
  {
   "cell_type": "code",
   "execution_count": null,
   "id": "norman-module",
   "metadata": {},
   "outputs": [],
   "source": [
    "mv starmodl_py.dat starmodl_0p75.dat"
   ]
  },
  {
   "cell_type": "code",
   "execution_count": null,
   "id": "blind-inflation",
   "metadata": {
    "scrolled": false
   },
   "outputs": [],
   "source": [
    "header0p75 = pd.read_csv('starmodl_0p75.dat', nrows=15, header=None, names=['Header'])\n",
    "model0p75 = pd.read_csv('starmodl_0p75.dat', comment='#', sep='\\s+')\n",
    "for i in range(15):\n",
    "    print(header0p75['Header'][i])\n",
    "model0p75"
   ]
  },
  {
   "cell_type": "markdown",
   "id": "paperback-customs",
   "metadata": {},
   "source": [
    "__Compare the central temperatures, pressures, densities, and energy generation rates between the 1.0 M$_\\odot$ and 0.75 M$_\\odot$ models. Explain the differences in the central conditions of the two models.__"
   ]
  },
  {
   "cell_type": "markdown",
   "id": "headed-wings",
   "metadata": {},
   "source": [
    "## C&O 10.27"
   ]
  },
  {
   "cell_type": "markdown",
   "id": "widespread-bidder",
   "metadata": {},
   "source": [
    "(a) Plot P versus r, M$_r$ versus r, L$_r$ versus r, and T versus r for the 1 M$_\\odot$ model."
   ]
  },
  {
   "cell_type": "code",
   "execution_count": null,
   "id": "starting-cornell",
   "metadata": {},
   "outputs": [],
   "source": [
    "model1p0['logT'] = np.log10(model1p0['T'])\n",
    "model1p0['logLr'] = np.log10(model1p0['L_r']/3.826e26)\n",
    "model1p0['logMr'] = np.log10(1. * (1. - model1p0['Qm']))\n",
    "model1p0['logP'] = np.log10(model1p0['P'])\n",
    "model1p0['logr'] = np.log10(model1p0['r'])\n",
    "\n",
    "font = {'family' : 'Arial',\n",
    "        'weight' : 'normal',\n",
    "        'size'   : 22}\n",
    "matplotlib.rc('font', **font)\n",
    "\n",
    "fig, axs = plt.subplots(2,2, sharex=True, figsize=(10,10))\n",
    "P_v_R_1p0 = model1p0.plot(ax=axs[0,0], x='logr',y='logP', ylabel='log(P / Pascals)')\n",
    "Mr_v_R_1p0 = model1p0.plot(ax=axs[0,1], x='logr',y='logMr', ylabel='log(M$_r$/M$_\\odot$)')\n",
    "Lr_v_R_1p0 = model1p0.plot(ax=axs[1,0], x='logr',y='logLr', ylabel='log(L$_r$/L$_\\odot$)', xlabel='log(r / meters)')\n",
    "T_v_R_1p0 = model1p0.plot(ax=axs[1,1], x='logr',y='logT', ylabel='log(T)', xlabel='log(r / meters)')\n",
    "fig.tight_layout()"
   ]
  },
  {
   "cell_type": "markdown",
   "id": "removable-consumption",
   "metadata": {},
   "source": [
    "__(b) At what temperature has L$_r$ reached approximately 99% of its surface value? 50% of its surface value? Is the temperature associated with 50% of the total luminosity consistent with the rough estimate found in Eq. (10.27)? Why or why not?__"
   ]
  },
  {
   "cell_type": "markdown",
   "id": "empty-brighton",
   "metadata": {},
   "source": [
    "__(c) What are the values of M$_r$/M$_\\mathrm{tot}$ for the two temperatures found in part (b)?__"
   ]
  },
  {
   "cell_type": "markdown",
   "id": "recorded-american",
   "metadata": {},
   "source": [
    "(d) Now compute StatStar models for M = 0.5, 2.0, 4.0, 8.0, and 10.0 M$_\\odot$. Use the table below. The StatStar invocation for the 10.0 M$_\\odot$ model is already filled in."
   ]
  },
  {
   "cell_type": "markdown",
   "id": "directed-briefs",
   "metadata": {},
   "source": [
    "| M/M$_\\odot$ \t| L/L$_\\odot$ \t| T$_e$ (K) \t|\n",
    "|-------------\t|-------------\t|-----------\t|\n",
    "| 0.5         \t| 0.0215     \t| 2331.45   \t|\n",
    "| 2.0         \t| 22.612    \t| 11218.4   \t|\n",
    "| 4.0         \t| 341.10     \t| 17904.0   \t|\n",
    "| 8.0         \t| 3421.52  \t    | 25613.6  \t    |\n",
    "|10.0           | 6641.60       | 28263.6       |"
   ]
  },
  {
   "cell_type": "code",
   "execution_count": null,
   "id": "accessible-basics",
   "metadata": {},
   "outputs": [],
   "source": [
    "StatStar(10.0,6641.60,28263.6,0.7,0.008)\n",
    "header = pd.read_csv('starmodl_py.dat', nrows=15, header=None, names=['Header'])\n",
    "model = pd.read_csv('starmodl_py.dat', comment='#', sep='\\s+')\n",
    "for i in range(15):\n",
    "    print(header['Header'][i])"
   ]
  },
  {
   "cell_type": "markdown",
   "id": "valued-equivalent",
   "metadata": {},
   "source": [
    "For each model, record the core temperature, core density, core energy generation rate, and radius in the arrays below. The masses and effective temperatures are already populated, as are the values for the 0.75 and 1.0 M$_\\odot$ models."
   ]
  },
  {
   "cell_type": "code",
   "execution_count": null,
   "id": "angry-single",
   "metadata": {},
   "outputs": [],
   "source": [
    "mass = np.array([0.5,0.75,1.0,2.0,4.0,8.0,10.0])\n",
    "teff = np.log10(np.array([2331.,3852.,5500.,11218.,17904.,25613.,28264.]))\n",
    "tcore = np.log10(np.array([,1.11e7,1.41e7,,,,]))\n",
    "rhocore = np.log10(np.array([,6.88e4,7.73e4,,,,]))\n",
    "epscore = np.log10(np.array([,9.85e-3,3.17e-2,,,,]))\n",
    "rad = np.log10(np.array([,0.98,1.03,,,,]))"
   ]
  },
  {
   "cell_type": "markdown",
   "id": "biological-courage",
   "metadata": {},
   "source": [
    "Finally, plot each of these quantities vs. mass. __Take a screenshot of the result, save, and print. (Or download the notebook as a PDF using the File menu above, and print the page containing your plot.__"
   ]
  },
  {
   "cell_type": "code",
   "execution_count": null,
   "id": "parallel-employer",
   "metadata": {},
   "outputs": [],
   "source": [
    "font = {'family' : 'Arial',\n",
    "        'weight' : 'normal',\n",
    "        'size'   : 22}\n",
    "matplotlib.rc('font', **font)\n",
    "fig, axs = plt.subplots(2, 2, sharex=True, figsize=(10,10))\n",
    "axs[0, 0].plot(mass, teff)\n",
    "axs[0, 0].plot(mass, tcore)\n",
    "axs[0, 0].set_ylabel('log(T / K)')\n",
    "axs[1, 0].plot(mass, rhocore)\n",
    "axs[1, 0].set_ylabel('log($\\\\rho$ / kg m$^{-3}$)')\n",
    "axs[1, 0].set_xlabel('M/M$_\\\\odot$')\n",
    "axs[0, 1].plot(mass, epscore)\n",
    "axs[0, 1].set_ylabel('log($\\\\epsilon$ / W kg$^{-1}$)')\n",
    "axs[1, 1].plot(mass,rad)\n",
    "axs[1, 1].set_ylabel('log(R / R$_\\\\odot$)')\n",
    "fig.tight_layout()"
   ]
  },
  {
   "cell_type": "markdown",
   "id": "headed-finding",
   "metadata": {},
   "source": [
    "(e) Plot log(mass) vs. log(luminosity). Overplot a power law model of the form (L/L$_\\odot$)=(M/M$_\\odot$)$^\\alpha$ by adjusting the value of alpha in the box below. Choose an alpha that produces the best fit to the data. This is the mass-luminosity relation of stars seen in Figure (7.7) in your text. __Take a screenshot of the result, save, and print. (Or download the notebook as a PDF using the File menu above, and print the page containing your plot.__"
   ]
  },
  {
   "cell_type": "code",
   "execution_count": null,
   "id": "figured-reward",
   "metadata": {},
   "outputs": [],
   "source": [
    "logmass = np.log10(mass)\n",
    "loglum = np.log10(np.array([0.0215,0.189,0.861,22.6,341,3422,6642]))\n",
    "\n",
    "alpha = 1.\n",
    "loglum_model = alpha*logmass\n",
    "\n",
    "font = {'family' : 'Arial',\n",
    "        'weight' : 'normal',\n",
    "        'size'   : 22}\n",
    "matplotlib.rc('font', **font)\n",
    "fig, ax = plt.subplots(figsize=(10,10))\n",
    "ax.plot(logmass, loglum)\n",
    "ax.plot(logmass, loglum_model)\n",
    "ax.set(xlabel='log(M/M$_\\odot$)',ylabel='log(L/L$_\\odot$)', title='')\n",
    "plt.legend(('StatStar results','power law'))\n",
    "plt.show()"
   ]
  },
  {
   "cell_type": "markdown",
   "id": "maritime-glasgow",
   "metadata": {},
   "source": [
    "And for kicks: Make a theoretical H-R diagram by plotting log(mass) vs. log(temperature)."
   ]
  },
  {
   "cell_type": "code",
   "execution_count": null,
   "id": "above-southwest",
   "metadata": {},
   "outputs": [],
   "source": [
    "font = {'family' : 'Arial',\n",
    "        'weight' : 'normal',\n",
    "        'size'   : 22}\n",
    "matplotlib.rc('font', **font)\n",
    "fig, ax = plt.subplots(figsize=(10,10))\n",
    "ax.plot(teff, loglum)\n",
    "ax.set(xlim = (5,3), ylabel='log(L/L$_\\odot$)',xlabel='log(T/T$_e$)', title='')\n",
    "plt.show()"
   ]
  }
 ],
 "metadata": {
  "kernelspec": {
   "display_name": "Python 3",
   "language": "python",
   "name": "python3"
  },
  "language_info": {
   "codemirror_mode": {
    "name": "ipython",
    "version": 3
   },
   "file_extension": ".py",
   "mimetype": "text/x-python",
   "name": "python",
   "nbconvert_exporter": "python",
   "pygments_lexer": "ipython3",
   "version": "3.6.12"
  }
 },
 "nbformat": 4,
 "nbformat_minor": 5
}
