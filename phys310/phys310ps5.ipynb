{
 "cells": [
  {
   "cell_type": "markdown",
   "id": "transsexual-board",
   "metadata": {},
   "source": [
    "Use this notebook to complete PS#5. Complete __the emphasized questions__ and submit the results on paper. Feel free change the code as you want -- if you mess something up, you can always reload it from scratch.\n",
    "\n",
    "To run each step, put your cursor in the box and click the \"Run\" button."
   ]
  },
  {
   "cell_type": "markdown",
   "id": "increasing-missouri",
   "metadata": {},
   "source": [
    "Start by loading some Python libraries."
   ]
  },
  {
   "cell_type": "code",
   "execution_count": 1,
   "id": "heated-dietary",
   "metadata": {},
   "outputs": [],
   "source": [
    "%matplotlib inline"
   ]
  },
  {
   "cell_type": "code",
   "execution_count": 2,
   "id": "northern-reynolds",
   "metadata": {},
   "outputs": [],
   "source": [
    "import numpy as np\n",
    "import pandas as pd\n",
    "import matplotlib\n",
    "import matplotlib.pyplot as plt"
   ]
  },
  {
   "cell_type": "markdown",
   "id": "suspected-inventory",
   "metadata": {},
   "source": [
    "## C&O 10.25"
   ]
  },
  {
   "cell_type": "markdown",
   "id": "wound-postage",
   "metadata": {},
   "source": [
    "Verify that the basic equations of stellar structure [Eqs. (10.6), (10.7), (10.36), (10.68)] are satisfied by the 1 M$_\\odot$ StatStar model."
   ]
  },
  {
   "cell_type": "markdown",
   "id": "figured-ethics",
   "metadata": {},
   "source": [
    "1. First, run the 1 M$_\\odot$ model. Use L = 0.86071 L$_\\odot$, T = 5500.2 K, X = 0.7, and Z = 0.008."
   ]
  },
  {
   "cell_type": "code",
   "execution_count": 3,
   "id": "attached-designer",
   "metadata": {},
   "outputs": [
    {
     "name": "stdout",
     "output_type": "stream",
     "text": [
      " Enter the mass of the star (in solar units):1.0\n",
      " Enter the luminosity of the star (in solar units):0.86071\n",
      " Enter the effective temperature of the star (in K):5500.2\n",
      " Enter the mass fraction of hydrogen (X):0.7\n",
      " Enter the mass fraction of metals (Z):0.008\n",
      "CONGRATULATIONS, I THINK YOU FOUND IT!\n",
      "However, be sure to look at your model carefully.\n",
      "***** The integration has been completed *****\n",
      "      The model has been stored in starmodl_py.dat\n"
     ]
    }
   ],
   "source": [
    "from statstar import StatStar"
   ]
  },
  {
   "cell_type": "markdown",
   "id": "concrete-quebec",
   "metadata": {},
   "source": [
    "In case you messed up the first run, you can run StatStar again, specifying the correct parameters from the command line:"
   ]
  },
  {
   "cell_type": "code",
   "execution_count": 4,
   "id": "inner-center",
   "metadata": {},
   "outputs": [
    {
     "name": "stdout",
     "output_type": "stream",
     "text": [
      "CONGRATULATIONS, I THINK YOU FOUND IT!\n",
      "However, be sure to look at your model carefully.\n",
      "***** The integration has been completed *****\n",
      "      The model has been stored in starmodl_py.dat\n"
     ]
    },
    {
     "data": {
      "text/plain": [
       "(0, 0, 423)"
      ]
     },
     "execution_count": 4,
     "metadata": {},
     "output_type": "execute_result"
    }
   ],
   "source": [
    "StatStar(1.,0.86071,5500.2,0.7,0.008)"
   ]
  },
  {
   "cell_type": "markdown",
   "id": "raising-enterprise",
   "metadata": {},
   "source": [
    "2. Copy the results to a new file, and then peruse the results. The output table lists the following quantities:\n",
    "- r, stellar radius in meters\n",
    "- Qm, a dimensionless measure of mass, where Qm $\\equiv$ 1.0 - M$_r$/M$_\\mathrm{tot}$ (see Notes)\n",
    "- L$_r$, interior luminosity in Watts\n",
    "- T, temperature in K\n",
    "- P, pressure in Pascals\n",
    "- rho, mass density in kg/m$^3$\n",
    "- kap(pa), opacity\n",
    "- eps(ilon), energy generation rate W/kg\n",
    "- whether the energy transport is dominated by radiation (r) or convection (c)\n",
    "- dlnP/dlnT, the gradient of ln(P) -- natural log of P -- with ln(T)"
   ]
  },
  {
   "cell_type": "code",
   "execution_count": 5,
   "id": "verified-legislature",
   "metadata": {},
   "outputs": [],
   "source": [
    "mv starmodl_py.dat starmodl_1p0.dat"
   ]
  },
  {
   "cell_type": "code",
   "execution_count": 6,
   "id": "bacterial-agenda",
   "metadata": {},
   "outputs": [
    {
     "name": "stdout",
     "output_type": "stream",
     "text": [
      "# A Homogeneous Main-Sequence Model\n",
      "# The surface conditions are:        The central conditions are:\n",
      "# Mtot =  1.000000E+00 Msun          Mc/Mtot     =  4.00418E-04\n",
      "# Rtot =  1.020998E+00 Rsun          Rc/Rtot     =  1.90000E-02\n",
      "# Ltot =  8.607100E-01 Lsun          Lc/Ltot     =  7.67225E-02\n",
      "# Teff =  5.500200E+03 K             Density     =  7.72529E+04 kg/m**3\n",
      "# X    =  7.000000E-01               Temperature =  1.41421E+07 K\n",
      "# Y    =  2.920000E-01               Pressure    =  1.46284E+16 Pa\n",
      "# Z    =  8.000000E-03               epsilon     =  3.17232E-02 W/kg\n",
      "#                                    dlnP/dlnT   =  2.49808E+00\n",
      "# Notes:\n",
      "# (1) Mass is listed as Qm = 1.0 - M_r/Mtot\n",
      "# (2) Convective zones are indicated by c\n",
      "# (3) dlnP/dlnT may be limited to +99.9 or -99.9# if so it is\n",
      "# labeled by *\n"
     ]
    },
    {
     "data": {
      "text/html": [
       "<div>\n",
       "<style scoped>\n",
       "    .dataframe tbody tr th:only-of-type {\n",
       "        vertical-align: middle;\n",
       "    }\n",
       "\n",
       "    .dataframe tbody tr th {\n",
       "        vertical-align: top;\n",
       "    }\n",
       "\n",
       "    .dataframe thead th {\n",
       "        text-align: right;\n",
       "    }\n",
       "</style>\n",
       "<table border=\"1\" class=\"dataframe\">\n",
       "  <thead>\n",
       "    <tr style=\"text-align: right;\">\n",
       "      <th></th>\n",
       "      <th>r</th>\n",
       "      <th>Qm</th>\n",
       "      <th>L_r</th>\n",
       "      <th>T</th>\n",
       "      <th>P</th>\n",
       "      <th>rho</th>\n",
       "      <th>kap</th>\n",
       "      <th>eps</th>\n",
       "      <th>r/c</th>\n",
       "      <th>dlPdlT</th>\n",
       "    </tr>\n",
       "  </thead>\n",
       "  <tbody>\n",
       "    <tr>\n",
       "      <th>0</th>\n",
       "      <td>13500000.0</td>\n",
       "      <td>1.000000e+00</td>\n",
       "      <td>2.530000e+25</td>\n",
       "      <td>14000000.0</td>\n",
       "      <td>1.450000e+16</td>\n",
       "      <td>7.720000e+04</td>\n",
       "      <td>0.140</td>\n",
       "      <td>1.510000e-03</td>\n",
       "      <td>c</td>\n",
       "      <td>2.5</td>\n",
       "    </tr>\n",
       "    <tr>\n",
       "      <th>1</th>\n",
       "      <td>20600000.0</td>\n",
       "      <td>9.990000e-01</td>\n",
       "      <td>2.830000e+25</td>\n",
       "      <td>13900000.0</td>\n",
       "      <td>1.430000e+16</td>\n",
       "      <td>7.660000e+04</td>\n",
       "      <td>0.142</td>\n",
       "      <td>1.460000e-03</td>\n",
       "      <td>c</td>\n",
       "      <td>2.5</td>\n",
       "    </tr>\n",
       "    <tr>\n",
       "      <th>2</th>\n",
       "      <td>27700000.0</td>\n",
       "      <td>9.970000e-01</td>\n",
       "      <td>3.400000e+25</td>\n",
       "      <td>13800000.0</td>\n",
       "      <td>1.400000e+16</td>\n",
       "      <td>7.570000e+04</td>\n",
       "      <td>0.144</td>\n",
       "      <td>1.390000e-03</td>\n",
       "      <td>c</td>\n",
       "      <td>2.5</td>\n",
       "    </tr>\n",
       "    <tr>\n",
       "      <th>3</th>\n",
       "      <td>34800000.0</td>\n",
       "      <td>9.930000e-01</td>\n",
       "      <td>4.280000e+25</td>\n",
       "      <td>13700000.0</td>\n",
       "      <td>1.360000e+16</td>\n",
       "      <td>7.450000e+04</td>\n",
       "      <td>0.146</td>\n",
       "      <td>1.310000e-03</td>\n",
       "      <td>c</td>\n",
       "      <td>2.5</td>\n",
       "    </tr>\n",
       "    <tr>\n",
       "      <th>4</th>\n",
       "      <td>41900000.0</td>\n",
       "      <td>9.880000e-01</td>\n",
       "      <td>5.510000e+25</td>\n",
       "      <td>13500000.0</td>\n",
       "      <td>1.320000e+16</td>\n",
       "      <td>7.310000e+04</td>\n",
       "      <td>0.149</td>\n",
       "      <td>1.210000e-03</td>\n",
       "      <td>c</td>\n",
       "      <td>2.5</td>\n",
       "    </tr>\n",
       "    <tr>\n",
       "      <th>...</th>\n",
       "      <td>...</td>\n",
       "      <td>...</td>\n",
       "      <td>...</td>\n",
       "      <td>...</td>\n",
       "      <td>...</td>\n",
       "      <td>...</td>\n",
       "      <td>...</td>\n",
       "      <td>...</td>\n",
       "      <td>...</td>\n",
       "      <td>...</td>\n",
       "    </tr>\n",
       "    <tr>\n",
       "      <th>419</th>\n",
       "      <td>708000000.0</td>\n",
       "      <td>1.180000e-11</td>\n",
       "      <td>3.290000e+26</td>\n",
       "      <td>13200.0</td>\n",
       "      <td>6.640000e+02</td>\n",
       "      <td>3.720000e-06</td>\n",
       "      <td>13.000</td>\n",
       "      <td>5.650000e-68</td>\n",
       "      <td>r</td>\n",
       "      <td>4.8</td>\n",
       "    </tr>\n",
       "    <tr>\n",
       "      <th>420</th>\n",
       "      <td>708000000.0</td>\n",
       "      <td>3.400000e-12</td>\n",
       "      <td>3.290000e+26</td>\n",
       "      <td>9880.0</td>\n",
       "      <td>1.660000e+02</td>\n",
       "      <td>1.240000e-06</td>\n",
       "      <td>14.800</td>\n",
       "      <td>1.200000e-74</td>\n",
       "      <td>r</td>\n",
       "      <td>4.9</td>\n",
       "    </tr>\n",
       "    <tr>\n",
       "      <th>421</th>\n",
       "      <td>709000000.0</td>\n",
       "      <td>6.080000e-13</td>\n",
       "      <td>3.290000e+26</td>\n",
       "      <td>6580.0</td>\n",
       "      <td>2.260000e+01</td>\n",
       "      <td>2.520000e-07</td>\n",
       "      <td>17.200</td>\n",
       "      <td>3.790000e-85</td>\n",
       "      <td>r</td>\n",
       "      <td>4.8</td>\n",
       "    </tr>\n",
       "    <tr>\n",
       "      <th>422</th>\n",
       "      <td>710000000.0</td>\n",
       "      <td>3.940000e-14</td>\n",
       "      <td>3.290000e+26</td>\n",
       "      <td>3290.0</td>\n",
       "      <td>7.970000e-01</td>\n",
       "      <td>1.750000e-08</td>\n",
       "      <td>23.000</td>\n",
       "      <td>1.670000e-106</td>\n",
       "      <td>r</td>\n",
       "      <td>4.2</td>\n",
       "    </tr>\n",
       "    <tr>\n",
       "      <th>423</th>\n",
       "      <td>711000000.0</td>\n",
       "      <td>0.000000e+00</td>\n",
       "      <td>3.290000e+26</td>\n",
       "      <td>0.0</td>\n",
       "      <td>0.000000e+00</td>\n",
       "      <td>0.000000e+00</td>\n",
       "      <td>0.000</td>\n",
       "      <td>0.000000e+00</td>\n",
       "      <td>r</td>\n",
       "      <td>4.2</td>\n",
       "    </tr>\n",
       "  </tbody>\n",
       "</table>\n",
       "<p>424 rows × 10 columns</p>\n",
       "</div>"
      ],
      "text/plain": [
       "               r            Qm           L_r           T             P  \\\n",
       "0     13500000.0  1.000000e+00  2.530000e+25  14000000.0  1.450000e+16   \n",
       "1     20600000.0  9.990000e-01  2.830000e+25  13900000.0  1.430000e+16   \n",
       "2     27700000.0  9.970000e-01  3.400000e+25  13800000.0  1.400000e+16   \n",
       "3     34800000.0  9.930000e-01  4.280000e+25  13700000.0  1.360000e+16   \n",
       "4     41900000.0  9.880000e-01  5.510000e+25  13500000.0  1.320000e+16   \n",
       "..           ...           ...           ...         ...           ...   \n",
       "419  708000000.0  1.180000e-11  3.290000e+26     13200.0  6.640000e+02   \n",
       "420  708000000.0  3.400000e-12  3.290000e+26      9880.0  1.660000e+02   \n",
       "421  709000000.0  6.080000e-13  3.290000e+26      6580.0  2.260000e+01   \n",
       "422  710000000.0  3.940000e-14  3.290000e+26      3290.0  7.970000e-01   \n",
       "423  711000000.0  0.000000e+00  3.290000e+26         0.0  0.000000e+00   \n",
       "\n",
       "              rho     kap            eps r/c  dlPdlT  \n",
       "0    7.720000e+04   0.140   1.510000e-03   c     2.5  \n",
       "1    7.660000e+04   0.142   1.460000e-03   c     2.5  \n",
       "2    7.570000e+04   0.144   1.390000e-03   c     2.5  \n",
       "3    7.450000e+04   0.146   1.310000e-03   c     2.5  \n",
       "4    7.310000e+04   0.149   1.210000e-03   c     2.5  \n",
       "..            ...     ...            ...  ..     ...  \n",
       "419  3.720000e-06  13.000   5.650000e-68   r     4.8  \n",
       "420  1.240000e-06  14.800   1.200000e-74   r     4.9  \n",
       "421  2.520000e-07  17.200   3.790000e-85   r     4.8  \n",
       "422  1.750000e-08  23.000  1.670000e-106   r     4.2  \n",
       "423  0.000000e+00   0.000   0.000000e+00   r     4.2  \n",
       "\n",
       "[424 rows x 10 columns]"
      ]
     },
     "execution_count": 6,
     "metadata": {},
     "output_type": "execute_result"
    }
   ],
   "source": [
    "model1p0 = pd.read_csv('starmodl_1p0.dat', comment='#', sep='\\s+')\n",
    "header1p0 = pd.read_csv('starmodl_1p0.dat', nrows=15, header=None, names=['Header'])\n",
    "for i in range(15):\n",
    "    print(header1p0['Header'][i])\n",
    "model1p0"
   ]
  },
  {
   "cell_type": "markdown",
   "id": "eligible-series",
   "metadata": {},
   "source": [
    "3. Find two adjacent shells at temperatures near $5\\times10^6$ K."
   ]
  },
  {
   "cell_type": "code",
   "execution_count": 7,
   "id": "boolean-greek",
   "metadata": {
    "scrolled": true
   },
   "outputs": [
    {
     "data": {
      "text/html": [
       "<div>\n",
       "<style scoped>\n",
       "    .dataframe tbody tr th:only-of-type {\n",
       "        vertical-align: middle;\n",
       "    }\n",
       "\n",
       "    .dataframe tbody tr th {\n",
       "        vertical-align: top;\n",
       "    }\n",
       "\n",
       "    .dataframe thead th {\n",
       "        text-align: right;\n",
       "    }\n",
       "</style>\n",
       "<table border=\"1\" class=\"dataframe\">\n",
       "  <thead>\n",
       "    <tr style=\"text-align: right;\">\n",
       "      <th></th>\n",
       "      <th>r</th>\n",
       "      <th>Qm</th>\n",
       "      <th>L_r</th>\n",
       "      <th>T</th>\n",
       "      <th>P</th>\n",
       "      <th>rho</th>\n",
       "      <th>kap</th>\n",
       "      <th>eps</th>\n",
       "      <th>r/c</th>\n",
       "      <th>dlPdlT</th>\n",
       "    </tr>\n",
       "  </thead>\n",
       "  <tbody>\n",
       "    <tr>\n",
       "      <th>30</th>\n",
       "      <td>227000000.0</td>\n",
       "      <td>0.324</td>\n",
       "      <td>3.290000e+26</td>\n",
       "      <td>6080000.0</td>\n",
       "      <td>8.970000e+14</td>\n",
       "      <td>11000.0</td>\n",
       "      <td>0.390</td>\n",
       "      <td>3.820000e-06</td>\n",
       "      <td>r</td>\n",
       "      <td>4.1</td>\n",
       "    </tr>\n",
       "    <tr>\n",
       "      <th>31</th>\n",
       "      <td>234000000.0</td>\n",
       "      <td>0.299</td>\n",
       "      <td>3.290000e+26</td>\n",
       "      <td>5850000.0</td>\n",
       "      <td>7.690000e+14</td>\n",
       "      <td>9820.0</td>\n",
       "      <td>0.401</td>\n",
       "      <td>2.750000e-06</td>\n",
       "      <td>r</td>\n",
       "      <td>4.1</td>\n",
       "    </tr>\n",
       "    <tr>\n",
       "      <th>32</th>\n",
       "      <td>241000000.0</td>\n",
       "      <td>0.275</td>\n",
       "      <td>3.290000e+26</td>\n",
       "      <td>5630000.0</td>\n",
       "      <td>6.590000e+14</td>\n",
       "      <td>8730.0</td>\n",
       "      <td>0.412</td>\n",
       "      <td>1.980000e-06</td>\n",
       "      <td>r</td>\n",
       "      <td>4.1</td>\n",
       "    </tr>\n",
       "    <tr>\n",
       "      <th>33</th>\n",
       "      <td>248000000.0</td>\n",
       "      <td>0.253</td>\n",
       "      <td>3.290000e+26</td>\n",
       "      <td>5430000.0</td>\n",
       "      <td>5.630000e+14</td>\n",
       "      <td>7750.0</td>\n",
       "      <td>0.424</td>\n",
       "      <td>1.410000e-06</td>\n",
       "      <td>r</td>\n",
       "      <td>4.2</td>\n",
       "    </tr>\n",
       "    <tr>\n",
       "      <th>34</th>\n",
       "      <td>255000000.0</td>\n",
       "      <td>0.233</td>\n",
       "      <td>3.290000e+26</td>\n",
       "      <td>5220000.0</td>\n",
       "      <td>4.810000e+14</td>\n",
       "      <td>6870.0</td>\n",
       "      <td>0.435</td>\n",
       "      <td>1.000000e-06</td>\n",
       "      <td>r</td>\n",
       "      <td>4.2</td>\n",
       "    </tr>\n",
       "    <tr>\n",
       "      <th>35</th>\n",
       "      <td>262000000.0</td>\n",
       "      <td>0.213</td>\n",
       "      <td>3.290000e+26</td>\n",
       "      <td>5030000.0</td>\n",
       "      <td>4.100000e+14</td>\n",
       "      <td>6080.0</td>\n",
       "      <td>0.446</td>\n",
       "      <td>7.100000e-07</td>\n",
       "      <td>r</td>\n",
       "      <td>4.2</td>\n",
       "    </tr>\n",
       "    <tr>\n",
       "      <th>36</th>\n",
       "      <td>269000000.0</td>\n",
       "      <td>0.195</td>\n",
       "      <td>3.290000e+26</td>\n",
       "      <td>4840000.0</td>\n",
       "      <td>3.490000e+14</td>\n",
       "      <td>5380.0</td>\n",
       "      <td>0.458</td>\n",
       "      <td>5.000000e-07</td>\n",
       "      <td>r</td>\n",
       "      <td>4.2</td>\n",
       "    </tr>\n",
       "    <tr>\n",
       "      <th>37</th>\n",
       "      <td>276000000.0</td>\n",
       "      <td>0.178</td>\n",
       "      <td>3.290000e+26</td>\n",
       "      <td>4660000.0</td>\n",
       "      <td>2.970000e+14</td>\n",
       "      <td>4750.0</td>\n",
       "      <td>0.469</td>\n",
       "      <td>3.500000e-07</td>\n",
       "      <td>r</td>\n",
       "      <td>4.3</td>\n",
       "    </tr>\n",
       "    <tr>\n",
       "      <th>38</th>\n",
       "      <td>284000000.0</td>\n",
       "      <td>0.162</td>\n",
       "      <td>3.290000e+26</td>\n",
       "      <td>4480000.0</td>\n",
       "      <td>2.520000e+14</td>\n",
       "      <td>4200.0</td>\n",
       "      <td>0.481</td>\n",
       "      <td>2.440000e-07</td>\n",
       "      <td>r</td>\n",
       "      <td>4.3</td>\n",
       "    </tr>\n",
       "    <tr>\n",
       "      <th>39</th>\n",
       "      <td>291000000.0</td>\n",
       "      <td>0.148</td>\n",
       "      <td>3.290000e+26</td>\n",
       "      <td>4320000.0</td>\n",
       "      <td>2.140000e+14</td>\n",
       "      <td>3700.0</td>\n",
       "      <td>0.492</td>\n",
       "      <td>1.700000e-07</td>\n",
       "      <td>r</td>\n",
       "      <td>4.3</td>\n",
       "    </tr>\n",
       "  </tbody>\n",
       "</table>\n",
       "</div>"
      ],
      "text/plain": [
       "              r     Qm           L_r          T             P      rho    kap  \\\n",
       "30  227000000.0  0.324  3.290000e+26  6080000.0  8.970000e+14  11000.0  0.390   \n",
       "31  234000000.0  0.299  3.290000e+26  5850000.0  7.690000e+14   9820.0  0.401   \n",
       "32  241000000.0  0.275  3.290000e+26  5630000.0  6.590000e+14   8730.0  0.412   \n",
       "33  248000000.0  0.253  3.290000e+26  5430000.0  5.630000e+14   7750.0  0.424   \n",
       "34  255000000.0  0.233  3.290000e+26  5220000.0  4.810000e+14   6870.0  0.435   \n",
       "35  262000000.0  0.213  3.290000e+26  5030000.0  4.100000e+14   6080.0  0.446   \n",
       "36  269000000.0  0.195  3.290000e+26  4840000.0  3.490000e+14   5380.0  0.458   \n",
       "37  276000000.0  0.178  3.290000e+26  4660000.0  2.970000e+14   4750.0  0.469   \n",
       "38  284000000.0  0.162  3.290000e+26  4480000.0  2.520000e+14   4200.0  0.481   \n",
       "39  291000000.0  0.148  3.290000e+26  4320000.0  2.140000e+14   3700.0  0.492   \n",
       "\n",
       "             eps r/c  dlPdlT  \n",
       "30  3.820000e-06   r     4.1  \n",
       "31  2.750000e-06   r     4.1  \n",
       "32  1.980000e-06   r     4.1  \n",
       "33  1.410000e-06   r     4.2  \n",
       "34  1.000000e-06   r     4.2  \n",
       "35  7.100000e-07   r     4.2  \n",
       "36  5.000000e-07   r     4.2  \n",
       "37  3.500000e-07   r     4.3  \n",
       "38  2.440000e-07   r     4.3  \n",
       "39  1.700000e-07   r     4.3  "
      ]
     },
     "execution_count": 7,
     "metadata": {},
     "output_type": "execute_result"
    }
   ],
   "source": [
    "model1p0[30:40]"
   ]
  },
  {
   "cell_type": "markdown",
   "id": "concerned-immunology",
   "metadata": {},
   "source": [
    "__4. Using these two shells, numerically compute the derivatives on the left-hand sides of the stellar structure equations. For example:__\n",
    "\n",
    "    $\\frac{dP}{dr} \\approx \\frac{P_{i+1} - P_i}{r_{i+1} - r_i}$\n",
    "\n",
    "\n",
    "__5. Compare the results with the values on the right-hand sides of the equations using average values of quantities for the two zones (e.g., $M_r = (M_i+M_{i+1})/2$). Compute percent differences between the two sides of each equation. Assume complete ionization, X = 0.7, Y = 0.292, and Z = 0.008.__"
   ]
  },
  {
   "cell_type": "markdown",
   "id": "joint-boston",
   "metadata": {},
   "source": [
    "## C&O 10.26"
   ]
  },
  {
   "cell_type": "markdown",
   "id": "respiratory-ivory",
   "metadata": {},
   "source": [
    "Now, build a second main-sequence star with a mass of 0.75 M$_\\odot$ that has a homogeneous composition of X = 0.7, Y = 0.292, and Z = 0.008. For these values, the model's luminosity and effective temperature are 0.189 L$_\\odot$ and 3851.55 K, respectively."
   ]
  },
  {
   "cell_type": "code",
   "execution_count": 8,
   "id": "corporate-thesis",
   "metadata": {},
   "outputs": [
    {
     "name": "stdout",
     "output_type": "stream",
     "text": [
      "CONGRATULATIONS, I THINK YOU FOUND IT!\n",
      "However, be sure to look at your model carefully.\n",
      "***** The integration has been completed *****\n",
      "      The model has been stored in starmodl_py.dat\n"
     ]
    },
    {
     "data": {
      "text/plain": [
       "(0, 0, 425)"
      ]
     },
     "execution_count": 8,
     "metadata": {},
     "output_type": "execute_result"
    }
   ],
   "source": [
    "StatStar(0.75,0.189,3851.55,0.7,0.008)"
   ]
  },
  {
   "cell_type": "code",
   "execution_count": 9,
   "id": "norman-module",
   "metadata": {},
   "outputs": [],
   "source": [
    "mv starmodl_py.dat starmodl_0p75.dat"
   ]
  },
  {
   "cell_type": "code",
   "execution_count": 10,
   "id": "blind-inflation",
   "metadata": {
    "scrolled": false
   },
   "outputs": [
    {
     "name": "stdout",
     "output_type": "stream",
     "text": [
      "# A Homogeneous Main-Sequence Model\n",
      "# The surface conditions are:        The central conditions are:\n",
      "# Mtot =  7.500000E-01 Msun          Mc/Mtot     =  2.97025E-04\n",
      "# Rtot =  9.756933E-01 Rsun          Rc/Rtot     =  1.70000E-02\n",
      "# Ltot =  1.890000E-01 Lsun          Lc/Ltot     =  6.03622E-02\n",
      "# Teff =  3.851550E+03 K             Density     =  6.87551E+01\n",
      "# X    =  7.000000E-01               Temperature =  1.11276E+07\n",
      "# Y    =  2.920000E-01               Pressure    =  1.02441E+17 dynes/cm**2\n",
      "# Z    =  8.000000E-03               epsilon     =  9.85106E+01 ergs/s/g\n",
      "#                                    dlnP/dlnT   =  2.49876E+00\n",
      "# Notes:\n",
      "# (1) Mass is listed as Qm = 1.0 - M_r/Mtot\n",
      "# (2) Convective zones are indicated by c\n",
      "# (3) dlnP/dlnT may be limited to +99.9 or -99.9# if so it is\n",
      "# labeled by *\n"
     ]
    },
    {
     "data": {
      "text/html": [
       "<div>\n",
       "<style scoped>\n",
       "    .dataframe tbody tr th:only-of-type {\n",
       "        vertical-align: middle;\n",
       "    }\n",
       "\n",
       "    .dataframe tbody tr th {\n",
       "        vertical-align: top;\n",
       "    }\n",
       "\n",
       "    .dataframe thead th {\n",
       "        text-align: right;\n",
       "    }\n",
       "</style>\n",
       "<table border=\"1\" class=\"dataframe\">\n",
       "  <thead>\n",
       "    <tr style=\"text-align: right;\">\n",
       "      <th></th>\n",
       "      <th>r</th>\n",
       "      <th>Qm</th>\n",
       "      <th>L_r</th>\n",
       "      <th>T</th>\n",
       "      <th>P</th>\n",
       "      <th>rho</th>\n",
       "      <th>kap</th>\n",
       "      <th>eps</th>\n",
       "      <th>r/c</th>\n",
       "      <th>dlPdlT</th>\n",
       "    </tr>\n",
       "  </thead>\n",
       "  <tbody>\n",
       "    <tr>\n",
       "      <th>0</th>\n",
       "      <td>1.150000e+09</td>\n",
       "      <td>1.000000e+00</td>\n",
       "      <td>4.360000e+31</td>\n",
       "      <td>11000000.0</td>\n",
       "      <td>1.020000e+17</td>\n",
       "      <td>6.870000e+01</td>\n",
       "      <td>2.53</td>\n",
       "      <td>4.690000e+00</td>\n",
       "      <td>c</td>\n",
       "      <td>2.5</td>\n",
       "    </tr>\n",
       "    <tr>\n",
       "      <th>1</th>\n",
       "      <td>1.830000e+09</td>\n",
       "      <td>9.990000e-01</td>\n",
       "      <td>4.980000e+31</td>\n",
       "      <td>11000000.0</td>\n",
       "      <td>1.000000e+17</td>\n",
       "      <td>6.810000e+01</td>\n",
       "      <td>2.56</td>\n",
       "      <td>4.540000e+00</td>\n",
       "      <td>c</td>\n",
       "      <td>2.5</td>\n",
       "    </tr>\n",
       "    <tr>\n",
       "      <th>2</th>\n",
       "      <td>2.510000e+09</td>\n",
       "      <td>9.970000e-01</td>\n",
       "      <td>6.200000e+31</td>\n",
       "      <td>10900000.0</td>\n",
       "      <td>9.830000e+16</td>\n",
       "      <td>6.730000e+01</td>\n",
       "      <td>2.59</td>\n",
       "      <td>4.340000e+00</td>\n",
       "      <td>c</td>\n",
       "      <td>2.5</td>\n",
       "    </tr>\n",
       "    <tr>\n",
       "      <th>3</th>\n",
       "      <td>3.190000e+09</td>\n",
       "      <td>9.940000e-01</td>\n",
       "      <td>8.150000e+31</td>\n",
       "      <td>10800000.0</td>\n",
       "      <td>9.590000e+16</td>\n",
       "      <td>6.630000e+01</td>\n",
       "      <td>2.64</td>\n",
       "      <td>4.080000e+00</td>\n",
       "      <td>c</td>\n",
       "      <td>2.5</td>\n",
       "    </tr>\n",
       "    <tr>\n",
       "      <th>4</th>\n",
       "      <td>3.870000e+09</td>\n",
       "      <td>9.890000e-01</td>\n",
       "      <td>1.090000e+32</td>\n",
       "      <td>10700000.0</td>\n",
       "      <td>9.290000e+16</td>\n",
       "      <td>6.510000e+01</td>\n",
       "      <td>2.71</td>\n",
       "      <td>3.790000e+00</td>\n",
       "      <td>c</td>\n",
       "      <td>2.5</td>\n",
       "    </tr>\n",
       "    <tr>\n",
       "      <th>...</th>\n",
       "      <td>...</td>\n",
       "      <td>...</td>\n",
       "      <td>...</td>\n",
       "      <td>...</td>\n",
       "      <td>...</td>\n",
       "      <td>...</td>\n",
       "      <td>...</td>\n",
       "      <td>...</td>\n",
       "      <td>...</td>\n",
       "      <td>...</td>\n",
       "    </tr>\n",
       "    <tr>\n",
       "      <th>421</th>\n",
       "      <td>6.760000e+10</td>\n",
       "      <td>1.140000e-11</td>\n",
       "      <td>7.230000e+32</td>\n",
       "      <td>10300.0</td>\n",
       "      <td>4.300000e+03</td>\n",
       "      <td>3.090000e-09</td>\n",
       "      <td>262.00</td>\n",
       "      <td>3.270000e-69</td>\n",
       "      <td>r</td>\n",
       "      <td>4.8</td>\n",
       "    </tr>\n",
       "    <tr>\n",
       "      <th>422</th>\n",
       "      <td>6.770000e+10</td>\n",
       "      <td>3.290000e-12</td>\n",
       "      <td>7.230000e+32</td>\n",
       "      <td>7750.0</td>\n",
       "      <td>1.080000e+03</td>\n",
       "      <td>1.030000e-09</td>\n",
       "      <td>298.00</td>\n",
       "      <td>2.070000e-76</td>\n",
       "      <td>r</td>\n",
       "      <td>4.9</td>\n",
       "    </tr>\n",
       "    <tr>\n",
       "      <th>423</th>\n",
       "      <td>6.780000e+10</td>\n",
       "      <td>5.910000e-13</td>\n",
       "      <td>7.230000e+32</td>\n",
       "      <td>5160.0</td>\n",
       "      <td>1.470000e+02</td>\n",
       "      <td>2.100000e-10</td>\n",
       "      <td>347.00</td>\n",
       "      <td>9.560000e-88</td>\n",
       "      <td>r</td>\n",
       "      <td>4.8</td>\n",
       "    </tr>\n",
       "    <tr>\n",
       "      <th>424</th>\n",
       "      <td>6.780000e+10</td>\n",
       "      <td>3.920000e-14</td>\n",
       "      <td>7.230000e+32</td>\n",
       "      <td>2580.0</td>\n",
       "      <td>5.260000e+00</td>\n",
       "      <td>1.490000e-11</td>\n",
       "      <td>473.00</td>\n",
       "      <td>8.300000e-111</td>\n",
       "      <td>r</td>\n",
       "      <td>4.2</td>\n",
       "    </tr>\n",
       "    <tr>\n",
       "      <th>425</th>\n",
       "      <td>6.790000e+10</td>\n",
       "      <td>0.000000e+00</td>\n",
       "      <td>7.230000e+32</td>\n",
       "      <td>0.0</td>\n",
       "      <td>0.000000e+00</td>\n",
       "      <td>0.000000e+00</td>\n",
       "      <td>0.00</td>\n",
       "      <td>0.000000e+00</td>\n",
       "      <td>r</td>\n",
       "      <td>4.2</td>\n",
       "    </tr>\n",
       "  </tbody>\n",
       "</table>\n",
       "<p>426 rows × 10 columns</p>\n",
       "</div>"
      ],
      "text/plain": [
       "                r            Qm           L_r           T             P  \\\n",
       "0    1.150000e+09  1.000000e+00  4.360000e+31  11000000.0  1.020000e+17   \n",
       "1    1.830000e+09  9.990000e-01  4.980000e+31  11000000.0  1.000000e+17   \n",
       "2    2.510000e+09  9.970000e-01  6.200000e+31  10900000.0  9.830000e+16   \n",
       "3    3.190000e+09  9.940000e-01  8.150000e+31  10800000.0  9.590000e+16   \n",
       "4    3.870000e+09  9.890000e-01  1.090000e+32  10700000.0  9.290000e+16   \n",
       "..            ...           ...           ...         ...           ...   \n",
       "421  6.760000e+10  1.140000e-11  7.230000e+32     10300.0  4.300000e+03   \n",
       "422  6.770000e+10  3.290000e-12  7.230000e+32      7750.0  1.080000e+03   \n",
       "423  6.780000e+10  5.910000e-13  7.230000e+32      5160.0  1.470000e+02   \n",
       "424  6.780000e+10  3.920000e-14  7.230000e+32      2580.0  5.260000e+00   \n",
       "425  6.790000e+10  0.000000e+00  7.230000e+32         0.0  0.000000e+00   \n",
       "\n",
       "              rho     kap            eps r/c  dlPdlT  \n",
       "0    6.870000e+01    2.53   4.690000e+00   c     2.5  \n",
       "1    6.810000e+01    2.56   4.540000e+00   c     2.5  \n",
       "2    6.730000e+01    2.59   4.340000e+00   c     2.5  \n",
       "3    6.630000e+01    2.64   4.080000e+00   c     2.5  \n",
       "4    6.510000e+01    2.71   3.790000e+00   c     2.5  \n",
       "..            ...     ...            ...  ..     ...  \n",
       "421  3.090000e-09  262.00   3.270000e-69   r     4.8  \n",
       "422  1.030000e-09  298.00   2.070000e-76   r     4.9  \n",
       "423  2.100000e-10  347.00   9.560000e-88   r     4.8  \n",
       "424  1.490000e-11  473.00  8.300000e-111   r     4.2  \n",
       "425  0.000000e+00    0.00   0.000000e+00   r     4.2  \n",
       "\n",
       "[426 rows x 10 columns]"
      ]
     },
     "execution_count": 10,
     "metadata": {},
     "output_type": "execute_result"
    }
   ],
   "source": [
    "header0p75 = pd.read_csv('starmodl_0p75.dat', nrows=15, header=None, names=['Header'])\n",
    "model0p75 = pd.read_csv('starmodl_0p75.dat', comment='#', sep='\\s+')\n",
    "for i in range(15):\n",
    "    print(header0p75['Header'][i])\n",
    "model0p75"
   ]
  },
  {
   "cell_type": "markdown",
   "id": "paperback-customs",
   "metadata": {},
   "source": [
    "__Compare the central temperatures, pressures, densities, and energy generation rates between the 1.0 M$_\\odot$ and 0.75 M$_\\odot$ models. Explain the differences in the central conditions of the two models.__"
   ]
  },
  {
   "cell_type": "markdown",
   "id": "headed-wings",
   "metadata": {},
   "source": [
    "## C&O 10.27"
   ]
  },
  {
   "cell_type": "markdown",
   "id": "widespread-bidder",
   "metadata": {},
   "source": [
    "(a) Plot P versus r, M$_r$ versus r, L$_r$ versus r, and T versus r for the 1 M$_\\odot$ model."
   ]
  },
  {
   "cell_type": "code",
   "execution_count": 11,
   "id": "starting-cornell",
   "metadata": {},
   "outputs": [
    {
     "name": "stderr",
     "output_type": "stream",
     "text": [
      "/Users/drupke/anaconda3/envs/astroconda/lib/python3.7/site-packages/pandas/core/arraylike.py:358: RuntimeWarning: divide by zero encountered in log10\n",
      "  result = getattr(ufunc, method)(*inputs, **kwargs)\n"
     ]
    },
    {
     "data": {
      "image/png": "[encoded data removed]",
      "text/plain": [
       "<Figure size 720x720 with 4 Axes>"
      ]
     },
     "metadata": {
      "needs_background": "light"
     },
     "output_type": "display_data"
    }
   ],
   "source": [
    "model1p0['logT'] = np.log10(model1p0['T'])\n",
    "model1p0['logLr'] = np.log10(model1p0['L_r']/3.826e26)\n",
    "model1p0['logMr'] = np.log10(1. * (1. - model1p0['Qm']))\n",
    "model1p0['logP'] = np.log10(model1p0['P'])\n",
    "model1p0['logr'] = np.log10(model1p0['r'])\n",
    "\n",
    "font = {'family' : 'Arial',\n",
    "        'weight' : 'normal',\n",
    "        'size'   : 22}\n",
    "matplotlib.rc('font', **font)\n",
    "\n",
    "fig, axs = plt.subplots(2,2, sharex=True, figsize=(10,10))\n",
    "P_v_R_1p0 = model1p0.plot(ax=axs[0,0], x='logr',y='logP', ylabel='log(P / Pascals)')\n",
    "Mr_v_R_1p0 = model1p0.plot(ax=axs[0,1], x='logr',y='logMr', ylabel='log(M$_r$/M$_\\odot$)')\n",
    "Lr_v_R_1p0 = model1p0.plot(ax=axs[1,0], x='logr',y='logLr', ylabel='log(L$_r$/L$_\\odot$)', xlabel='log(r / meters)')\n",
    "T_v_R_1p0 = model1p0.plot(ax=axs[1,1], x='logr',y='logT', ylabel='log(T)', xlabel='log(r / meters)')\n",
    "fig.tight_layout()"
   ]
  },
  {
   "cell_type": "markdown",
   "id": "removable-consumption",
   "metadata": {},
   "source": [
    "__(b) At what temperature has L$_r$ reached approximately 99% of its surface value? 50% of its surface value? Is the temperature associated with 50% of the total luminosity consistent with the rough estimate found in Eq. (10.27)? Why or why not?__"
   ]
  },
  {
   "cell_type": "markdown",
   "id": "empty-brighton",
   "metadata": {},
   "source": [
    "__(c) What are the values of M$_r$/M$_\\mathrm{tot}$ for the two temperatures found in part (b)?__"
   ]
  },
  {
   "cell_type": "markdown",
   "id": "recorded-american",
   "metadata": {},
   "source": [
    "Now compute StatStar models for M = 0.5, 2.0, 4.0, 8.0, and 13.0 M$_\\odot$:"
   ]
  },
  {
   "cell_type": "markdown",
   "id": "directed-briefs",
   "metadata": {},
   "source": [
    "| M/M$_\\odot$ \t| L/L$_\\odot$ \t| T$_e$ (K) \t|\n",
    "|-------------\t|-------------\t|-----------\t|\n",
    "| 0.5         \t| 0.02150     \t| 2331.45   \t|\n",
    "| 2.0         \t| 22.61200    \t| 11218.40  \t|\n",
    "| 4.0         \t| 341.09998   \t| 17904.00  \t|\n",
    "| 8.0         \t| 3421.51978  \t| 25613.60  \t|\n",
    "| 13.0        \t| 15246.32910 \t| 32149.90  \t|"
   ]
  },
  {
   "cell_type": "code",
   "execution_count": 112,
   "id": "accessible-basics",
   "metadata": {},
   "outputs": [
    {
     "name": "stdout",
     "output_type": "stream",
     "text": [
      "CONGRATULATIONS, I THINK YOU FOUND IT!\n",
      "However, be sure to look at your model carefully.\n",
      "***** The integration has been completed *****\n",
      "      The model has been stored in starmodl_py.dat\n",
      "# A Homogeneous Main-Sequence Model\n",
      "# The surface conditions are:        The central conditions are:\n",
      "# Mtot =  2.000000E+00 Msun          Mc/Mtot     =  8.02031E-05\n",
      "# Rtot =  1.257944E+00 Rsun          Rc/Rtot     =  1.20000E-02\n",
      "# Ltot =  2.261200E+01 Lsun          Lc/Ltot     =  6.74047E-02\n",
      "# Teff =  1.121840E+04 K             Density     =  6.56797E+04 kg/m**3\n",
      "# X    =  7.000000E-01               Temperature =  2.19446E+07 K\n",
      "# Y    =  2.920000E-01               Pressure    =  1.92988E+16 Pa\n",
      "# Z    =  8.000000E-03               epsilon     =  1.82775E+00 W/kg\n",
      "#                                    dlnP/dlnT   =  2.49206E+00\n",
      "# Notes:\n",
      "# (1) Mass is listed as Qm = 1.0 - M_r/Mtot\n",
      "# (2) Convective zones are indicated by c\n",
      "# (3) dlnP/dlnT may be limited to +99.9 or -99.9# if so it is\n",
      "# labeled by *\n"
     ]
    }
   ],
   "source": [
    "StatStar(2.0,22.61200,11218.40,0.7,0.008)\n",
    "header = pd.read_csv('starmodl_py.dat', nrows=15, header=None, names=['Header'])\n",
    "model = pd.read_csv('starmodl_py.dat', comment='#', sep='\\s+')\n",
    "for i in range(15):\n",
    "    print(header['Header'][i])"
   ]
  },
  {
   "cell_type": "code",
   "execution_count": 122,
   "id": "angry-single",
   "metadata": {},
   "outputs": [
    {
     "ename": "SyntaxError",
     "evalue": "invalid syntax (<ipython-input-122-b38822b451f5>, line 2)",
     "output_type": "error",
     "traceback": [
      "\u001b[0;36m  File \u001b[0;32m\"<ipython-input-122-b38822b451f5>\"\u001b[0;36m, line \u001b[0;32m2\u001b[0m\n\u001b[0;31m    tcore = np.log10(np.array([,,1.41e7,,,,]))\u001b[0m\n\u001b[0m                               ^\u001b[0m\n\u001b[0;31mSyntaxError\u001b[0m\u001b[0;31m:\u001b[0m invalid syntax\n"
     ]
    }
   ],
   "source": [
    "mass = np.array([0.5,0.75,1.0,2.0,4.0,8.0,13.0])\n",
    "tcore = np.log10(np.array([,,1.41e7,,,,]))\n",
    "rhocore = np.log10(np.array([,,7.73e4,,,,]))\n",
    "epscore = np.log10(np.array([,,3.17e-2,,,,]))\n",
    "teff = np.log10(np.array([,,5500,,,,]))\n",
    "rad = np.log10(np.array([,,1.03,,,,]))"
   ]
  },
  {
   "cell_type": "code",
   "execution_count": null,
   "id": "excessive-offer",
   "metadata": {},
   "outputs": [],
   "source": []
  }
 ],
 "metadata": {
  "kernelspec": {
   "display_name": "Python 3",
   "language": "python",
   "name": "python3"
  },
  "language_info": {
   "codemirror_mode": {
    "name": "ipython",
    "version": 3
   },
   "file_extension": ".py",
   "mimetype": "text/x-python",
   "name": "python",
   "nbconvert_exporter": "python",
   "pygments_lexer": "ipython3",
   "version": "3.7.9"
  }
 },
 "nbformat": 4,
 "nbformat_minor": 5
}
